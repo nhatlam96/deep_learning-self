{
 "cells": [
  {
   "cell_type": "markdown",
   "metadata": {},
   "source": [
    "# Klassifikation mit logistischer Regression\n",
    "\n",
    "**Ziel**: Wir implementieren einen einfachen Klassifizierer basierend auf logistischer Regression. Das System erhält Bilder als Input und soll klassifizieren, ob darauf eine Katze zu sehen ist oder nicht.**\n",
    "\n",
    "**Anweisungen:**\n",
    "- Verwenden Sie keine Schleifen (for/while) in Ihrem Code, es sei denn, die Anweisungen fordern Sie ausdrücklich dazu auf.\n",
    "- Verwenden Sie `np.dot(X,Y)`, um das Skalarprodukt zweier Vektoren zu berechnen.\n",
    "\n",
    "**Quelle:** DeepLearning.AI"
   ]
  },
  {
   "cell_type": "markdown",
   "metadata": {},
   "source": [
    "## Schritte\n",
    "- [1 - Bibliotheken](#1)\n",
    "- [2 - Problemstellung](#2)\n",
    "    - [Aufgabe 1 1](#ex-1)\n",
    "    - [Aufgabe 2 2](#ex-2)\n",
    "- [3 - Allgemeine Architektur eines Lernalgorithmus](#3)\n",
    "- [4 - Aufbau der Teile unseres Algorithmus](#4)\n",
    "    - [4.1 - Hilfsfunktionen](#4-1)\n",
    "        - [Aufgabe 3 - sigmoid](#ex-3)\n",
    "    - [4.2 - Initialisierung der Parameter](#4-2)\n",
    "        - [Aufgabe 4 - Initialisierung mit Nullen](#ex-4)\n",
    "    - [4.3 - Forward and Backward Propagation](#4-3)\n",
    "        - [Aufgabe 5 - propagate](#ex-5)\n",
    "    - [4.4 - Optimierung](#4-4)\n",
    "        - [Aufgabe 6 - Optimieren](#ex-6)\n",
    "        - [Aufgabe 7 - Vorhersage / Prediction](#ex-7)\n",
    "- [5 - Alle Funktionen zu einem Modell zusammenfügen](#5)\n",
    "    - [Aufgabe 8 - Modell](#ex-8)\n",
    "- [6 - Weitere Analyse](#6)\n",
    "- [7 - Testen Sie mit Ihrem eigenen Bild](#7)"
   ]
  },
  {
   "cell_type": "markdown",
   "metadata": {},
   "source": [
    "<a name='1'></a>\n",
    "## 1 - Bibliotheken ##\n",
    "\n",
    "Führen Sie zunächst die unten stehende Zelle aus, um alle Pakete zu importieren, die Sie für diese Aufgabe benötigen. \n",
    "- [numpy](https://numpy.org/doc/1.20/) ist das grundlegende Paket für mehrdimensionale Datenstrukturen und wissenschaftliche Berechnungen mit Python.\n",
    "- [h5py](http://www.h5py.org) ist ein allgemeines Paket zur Interaktion mit einem Datensatz, der in einer [H5-Datei](https://de.wikipedia.org/wiki/Hierarchical_Data_Format) gespeichert ist.\n",
    "- [matplotlib](http://matplotlib.org) ist eine Bibliothek zum Zeichnen von Diagrammen in Python.\n",
    "- [PIL](https://pillow.readthedocs.io/en/stable/) und [scipy](https://www.scipy.org/) werden  verwendet, um Ihr Modell mit einem eigenen Bild am Ende zu testen."
   ]
  },
  {
   "cell_type": "code",
   "execution_count": 2,
   "metadata": {},
   "outputs": [],
   "source": [
    "import numpy as np\n",
    "import copy\n",
    "import matplotlib.pyplot as plt\n",
    "import h5py\n",
    "import scipy\n",
    "from PIL import Image\n",
    "from scipy import ndimage\n",
    "from lr_utils import load_dataset\n",
    "from public_tests import *"
   ]
  },
  {
   "cell_type": "markdown",
   "metadata": {},
   "source": [
    "<a name='2'></a>\n",
    "## 2 - Problemstellung ##\n",
    "\n",
    "Sie erhalten einen Datensatz (\"data.h5\"), der enthält:\n",
    "    - eine Trainingsmenge von m_train Bildern, die als Katze (y=1) oder Nicht-Katze (y=0) gelabelt sind\n",
    "    - einen Testsatz von m_test Bildern, die als Katze oder Nicht-Katze gekennzeichnet sind\n",
    "    - jedes Bild hat die Form (num_px, num_px, 3), wobei 3 für die 3 Kanäle (RGB) steht. Jedes Bild ist also quadratisch (Höhe = num_px) und (Breite = num_px).\n",
    "\n",
    "Sie werden einen einfachen Algorithmus erstellen, der Bilder als Katze oder Nicht-Katze klassifiziert.\n",
    "\n",
    "Machen wir uns zunächst mit dem Datensatz vertraut. Laden Sie die Daten, indem Sie den folgenden Code ausführen."
   ]
  },
  {
   "cell_type": "code",
   "execution_count": 3,
   "metadata": {},
   "outputs": [],
   "source": [
    "# Loading the data (cat/non-cat)\n",
    "train_set_x_orig, train_set_y, test_set_x_orig, test_set_y, classes = load_dataset()"
   ]
  },
  {
   "cell_type": "markdown",
   "metadata": {},
   "source": [
    "Wir haben \"_orig\" am Ende der Bilddatensätze (train und test) hinzugefügt, weil wir sie vorverarbeiten werden. Nach der Vorverarbeitung erhalten wir train_set_x und test_set_x (die Labels train_set_y und test_set_y müssen nicht vorverarbeitet werden).\n",
    "\n",
    "Jede Zeile von train_set_x_orig und test_set_x_orig ist ein Array, das ein Bild darstellt. Sie können sich ein Beispiel ansehen, indem Sie den folgenden Code ausführen. Sie können auch den `index- Wert ändern und erneut ausführen, um andere Bilder zu sehen. "
   ]
  },
  {
   "cell_type": "code",
   "execution_count": 5,
   "metadata": {},
   "outputs": [
    {
     "name": "stdout",
     "output_type": "stream",
     "text": [
      "y = [1], it's a 'cat' picture.\n"
     ]
    },
    {
     "data": {
      "image/png": "[encoded data removed]",
      "text/plain": [
       "<Figure size 640x480 with 1 Axes>"
      ]
     },
     "metadata": {},
     "output_type": "display_data"
    }
   ],
   "source": [
    "# Example of a picture\n",
    "index = 25\n",
    "plt.imshow(train_set_x_orig[index])\n",
    "print(\n",
    "    f\"y = {str(train_set_y[:, index])}, it's a '\"\n",
    "    + classes[np.squeeze(train_set_y[:, index])].decode(\"utf-8\")\n",
    "    + \"' picture.\"\n",
    ")"
   ]
  },
  {
   "cell_type": "markdown",
   "metadata": {},
   "source": [
    "Viele Softwarefehler beim Deep Learning entstehen durch nicht passende Matrix-/Vektordimensionen. Wenn Sie Ihre Matrix-/Vektor-Dimensionen im Griff halten, werden Sie viele Fehler vermeiden. \n",
    "\n",
    "<a name='ex-1'></a>\n",
    "### Aufgabe 1\n",
    "Finden Sie die Werte für:\n",
    "    - m_train (Anzahl der Trainingsbeispiele)\n",
    "    - m_test (Anzahl der Testbeispiele)\n",
    "    - num_px (= Höhe = Breite eines Trainingsbildes)\n",
    "Denken Sie daran, dass `train_set_x_orig` ein numpy-Array der Form (m_train, num_px, num_px, 3) ist. Sie können zum Beispiel auf `m_train` zugreifen, indem Sie `train_set_x_orig.shape[0]` schreiben."
   ]
  },
  {
   "cell_type": "code",
   "execution_count": null,
   "metadata": {},
   "outputs": [],
   "source": [
    "#(≈ 3 lines of code)\n",
    "# m_train = \n",
    "# m_test = \n",
    "# num_px = \n",
    "# YOUR CODE STARTS HERE\n",
    "\n",
    "\n",
    "# YOUR CODE ENDS HERE\n",
    "\n",
    "print (\"Number of training examples: m_train = \" + str(m_train))\n",
    "print (\"Number of testing examples: m_test = \" + str(m_test))\n",
    "print (\"Height/Width of each image: num_px = \" + str(num_px))\n",
    "print (\"Each image is of size: (\" + str(num_px) + \", \" + str(num_px) + \", 3)\")\n",
    "print (\"train_set_x shape: \" + str(train_set_x_orig.shape))\n",
    "print (\"train_set_y shape: \" + str(train_set_y.shape))\n",
    "print (\"test_set_x shape: \" + str(test_set_x_orig.shape))\n",
    "print (\"test_set_y shape: \" + str(test_set_y.shape))"
   ]
  },
  {
   "cell_type": "markdown",
   "metadata": {},
   "source": [
    "**Erwartete Ausgabe für m_train, m_test and num_px**: \n",
    "<table style=\"width:15%\">\n",
    "  <tr>\n",
    "    <td> m_train </td>\n",
    "    <td> 209 </td> \n",
    "  </tr>\n",
    "  \n",
    "  <tr>\n",
    "    <td>m_test</td>\n",
    "    <td> 50 </td> \n",
    "  </tr>\n",
    "  \n",
    "  <tr>\n",
    "    <td>num_px</td>\n",
    "    <td> 64 </td> \n",
    "  </tr>\n",
    "  \n",
    "</table>\n"
   ]
  },
  {
   "cell_type": "markdown",
   "metadata": {},
   "source": [
    "Der Einfachheit halber sollten Sie nun Bilder der Form (num_px, num_px, 3) in ein numpy-Array der Form (num_px $*$ num_px $*$ 3, 1) umformen. Danach ist unser Trainings- (und Test-) Datensatz ein numpy-array, in dem jede Spalte ein reduziertes Bild darstellt. Es sollten m_train (bzw. m_test) Spalten sein.\n",
    "\n",
    "<a name='ex-2'></a>\n",
    "### Aufgabe 2\n",
    "Formen Sie die Trainings- und Testdatensätze so um, dass Bilder der Größe (num_px, num_px, 3) in einzelne Vektoren der Form (num\\_px $*$ num\\_px $*$ 3, 1) \"flachgeklopft\"\" werden.\n",
    "\n",
    "Ein Trick, wenn man eine Matrix X der Form (a,b,c,d) in eine Matrix X_flatten der Form (b$*$c$*$d, a) umwandeln will, ist die Verwendung von: \n",
    "```python\n",
    "X_flatten = X.reshape(X.shape[0], -1).T # X.T ist die Transponierte von X"
   ]
  },
  {
   "cell_type": "code",
   "execution_count": null,
   "metadata": {},
   "outputs": [],
   "source": [
    "# Reshape the training and test examples\n",
    "#(≈ 2 lines of code)\n",
    "# train_set_x_flatten = ...\n",
    "# test_set_x_flatten = ...\n",
    "# YOUR CODE STARTS HERE\n",
    "\n",
    "\n",
    "# YOUR CODE ENDS HERE\n",
    "\n",
    "# Check that the first 10 pixels of the second image are in the correct place\n",
    "assert np.alltrue(train_set_x_flatten[0:10, 1] == [196, 192, 190, 193, 186, 182, 188, 179, 174, 213]), \"Wrong solution. Use (X.shape[0], -1).T.\"\n",
    "assert np.alltrue(test_set_x_flatten[0:10, 1] == [115, 110, 111, 137, 129, 129, 155, 146, 145, 159]), \"Wrong solution. Use (X.shape[0], -1).T.\"\n",
    "\n",
    "print (\"train_set_x_flatten shape: \" + str(train_set_x_flatten.shape))\n",
    "print (\"train_set_y shape: \" + str(train_set_y.shape))\n",
    "print (\"test_set_x_flatten shape: \" + str(test_set_x_flatten.shape))\n",
    "print (\"test_set_y shape: \" + str(test_set_y.shape))"
   ]
  },
  {
   "cell_type": "markdown",
   "metadata": {},
   "source": [
    "**Erwartete Ausgabe:**: \n",
    "\n",
    "<table style=\"width:35%\">\n",
    "  <tr>\n",
    "    <td>train_set_x_flatten shape</td>\n",
    "    <td> (12288, 209)</td> \n",
    "  </tr>\n",
    "  <tr>\n",
    "    <td>train_set_y shape</td>\n",
    "    <td>(1, 209)</td> \n",
    "  </tr>\n",
    "  <tr>\n",
    "    <td>test_set_x_flatten shape</td>\n",
    "    <td>(12288, 50)</td> \n",
    "  </tr>\n",
    "  <tr>\n",
    "    <td>test_set_y shape</td>\n",
    "    <td>(1, 50)</td> \n",
    "  </tr>\n",
    "</table>"
   ]
  },
  {
   "cell_type": "markdown",
   "metadata": {},
   "source": [
    "Zur Darstellung von Farbbildern müssen die Rot-, Grün- und Blaukanäle (RGB) für jedes Pixel angegeben werden, so dass der Pixelwert eigentlich ein Vektor aus drei Zahlen zwischen 0 und 255 ist.\n",
    "\n",
    "Ein üblicher Vorverarbeitungsschritt beim maschinellen Lernen besteht darin, den Datensatz zu zentrieren und zu standardisieren. Das bedeutet, dass Sie den Mittelwert des gesamten Numpy-Arrays von jedem Beispiel abziehen und dann jedes Beispiel durch die Standardabweichung des gesamten Numpy-Arrays dividieren. Bei Bilddatensätzen ist es jedoch einfacher und bequemer und funktioniert fast genauso gut, wenn Sie einfach jede Zeile des Datensatzes durch 255 (den Höchstwert eines Pixelkanals) teilen.\n",
    "\n",
    "<!-- Während des Trainings Ihres Modells werden Sie Parameter mit initialen Eingabewerten multiplizieren Dann trainieren Sie das Modell durch Backpropagation mit den Gradienten. Es ist jedoch äußerst wichtig, dass jedes Feature einen ähnlichen Wertebereich hat, damit unsere Gradienten nicht explodieren.!--> \n",
    "\n",
    "Lassen Sie nun unseren Datensatz standardisieren."
   ]
  },
  {
   "cell_type": "code",
   "execution_count": null,
   "metadata": {},
   "outputs": [],
   "source": [
    "train_set_x = train_set_x_flatten / 255.\n",
    "test_set_x = test_set_x_flatten / 255."
   ]
  },
  {
   "cell_type": "markdown",
   "metadata": {},
   "source": [
    "**Was Sie sich merken müssen:**\n",
    "\n",
    "Die üblichen Schritte zur Vorverarbeitung eines neuen Datensatzes sind:\n",
    "- Bestimmen Sie die Anzahl der Dimensionen und die Shapes des Problems (m_train, m_test, num_px, ...).\n",
    "- Standardisieren Sie die Daten."
   ]
  },
  {
   "cell_type": "markdown",
   "metadata": {},
   "source": [
    "<a name='3'></a>\n",
    "## 3 - Allgemeine Architektur eines Lernalgorithmus ##\n",
    "\n",
    "Wir werden jetzt einen einfachen Algorithmus entwickeln, um Katzenbilder von Nicht-Katzenbildern zu unterscheiden.\n",
    "\n",
    "Sie werden eine logistische Regression entwickeln. Die folgende Abbildung erklärt, dass die logistische Regression eigentlich ein sehr einfaches Neuronales Netz ist!\n",
    "\n",
    "<img src=\"images/LogReg_kiank.png\" style=\"width:650px;height:400px;\">\n",
    "\n",
    "**Mathematische Darstellung des Algorithmus**:\n",
    "\n",
    "Für ein Trainingsbeispiel: $x^{(i)}$:\n",
    "$$z^{(i)} = w^T x^{(i)} + b \\tag{1}$$\n",
    "$$\\hat{y}^{(i)} = a^{(i)} = \\sigma(z^{(i)})\\tag{2}$$ \n",
    "$$ \\mathscr{L}(a^{(i)}, y^{(i)}) =  - y^{(i)}  \\log(a^{(i)}) - (1-y^{(i)} )  \\log(1-a^{(i)})\\tag{3}$$\n",
    "\n",
    "Die Kosten werden dann als Summe über alle Trainingsdaten berechnet::\n",
    "$$ \\mathscr{J} = \\frac{1}{m} \\sum_{i=1}^m \\mathscr{L}(a^{(i)}, y^{(i)})\\tag{6}$$\n",
    "\n",
    "**Schritte**:\n",
    "In dieser Übung führen Sie die folgenden Schritte durch: \n",
    "- Initialisieren Sie die Parameter des Modells\n",
    "- Lernen Sie die Parameter des Modells durch Minimierung der Kostenfunktion  \n",
    "- Verwenden Sie die erlernten Parameter, um Predictions zu berechnen (auf dem Testdatensatz)\n",
    "- Analysieren Sie die Ergebnisse und ziehen Sie Schlussfolgerungen"
   ]
  },
  {
   "cell_type": "markdown",
   "metadata": {},
   "source": [
    "<a name='4'></a>\n",
    "## 4 - Aufbau der Teile unseres Algorithmus ## \n",
    "\n",
    "Die wichtigsten Schritte zum Aufbau eines neuronalen Netzes sind:\n",
    "1. Definieren der Modellstruktur (z.B. Anzahl der Eingangsmerkmale / Features) \n",
    "2. Initialisierung der Parameter des Modells\n",
    "3. Schleife:\n",
    "    - Berechnung des aktuellen Verlustwerts, d.h. der Abweichung zwischen vorhergesagten und tatsächlichen Werten (Vorwärtspropagation)\n",
    "    - Berechnen des aktuellen Gradienten (Rückwärtspropagation)\n",
    "    - Aktualisierung der Parameter (Gradientenabstieg / Gradient Descent)\n",
    "\n",
    "Oft baut man die SChritte 1-3 separat auf und integriert sie in eine Funktion, die wir `Modell()` nennen.\n",
    "\n",
    "<a name='4-1'></a>\n",
    "### 4.1 - Hilfsfunktionen\n",
    "\n",
    "<a name='ex-3'></a>\n",
    "### Aufgabe 3 - sigmoid\n",
    "Implementieren Sie `sigmoid()`. Wie Sie in der Abbildung oben gesehen haben, müssen Sie $sigmoid(z) = \\sigma(z) = \\frac{1}{1 + e^{-z}}$ für $z = w^T x + b$ berechnen, um Vorhersagen zu machen. Verwenden Sie np.exp()."
   ]
  },
  {
   "cell_type": "code",
   "execution_count": null,
   "metadata": {},
   "outputs": [],
   "source": [
    "def sigmoid(z):\n",
    "    \"\"\"\n",
    "    Compute the sigmoid of z\n",
    "\n",
    "    Arguments:\n",
    "    z -- A scalar or numpy array of any size.\n",
    "\n",
    "    Return:\n",
    "    s -- sigmoid(z)\n",
    "    \"\"\"\n",
    "\n",
    "    #(≈ 1 line of code)\n",
    "    # s = ...\n",
    "    # YOUR CODE STARTS HERE\n",
    "    \n",
    "    \n",
    "    # YOUR CODE ENDS HERE\n",
    "    \n",
    "    return s"
   ]
  },
  {
   "cell_type": "code",
   "execution_count": null,
   "metadata": {},
   "outputs": [],
   "source": [
    "print (\"sigmoid([0, 2]) = \" + str(sigmoid(np.array([0,2]))))\n",
    "\n",
    "sigmoid_test(sigmoid)"
   ]
  },
  {
   "cell_type": "code",
   "execution_count": null,
   "metadata": {},
   "outputs": [],
   "source": [
    "x = np.array([0.5, 0, 2.0])\n",
    "output = sigmoid(x)\n",
    "print(output)"
   ]
  },
  {
   "cell_type": "markdown",
   "metadata": {},
   "source": [
    "<a name='4-2'></a>\n",
    "### 4.2 - Initialisierung der Parameter\n",
    "\n",
    "<a name='ex-4'></a>\n",
    "### Aufgabe 4 - Initialisierung mit Nullen\n",
    "Implementieren Sie die Initialisierung der Parameter in der folgenden Zelle. Sie müssen w als einen Vektor von Nullen initialisieren. Wenn Sie nicht wissen, welche Numpy-Funktion Sie verwenden sollen, schlagen Sie in der Dokumentation der Numpy-Bibliothek unter np.zeros() nach."
   ]
  },
  {
   "cell_type": "code",
   "execution_count": null,
   "metadata": {},
   "outputs": [],
   "source": [
    "def initialize_with_zeros(dim):\n",
    "    \"\"\"\n",
    "    This function creates a vector of zeros of shape (dim, 1) for w and initializes b to 0.\n",
    "    \n",
    "    Argument:\n",
    "    dim -- size of the w vector we want (or number of parameters in this case)\n",
    "    \n",
    "    Returns:\n",
    "    w -- initialized vector of shape (dim, 1)\n",
    "    b -- initialized scalar (corresponds to the bias) of type float\n",
    "    \"\"\"\n",
    "    \n",
    "    # (≈ 2 lines of code)\n",
    "    # w = ...\n",
    "    # b = ...\n",
    "    # YOUR CODE STARTS HERE\n",
    "    \n",
    "    \n",
    "    # YOUR CODE ENDS HERE\n",
    "\n",
    "    return w, b"
   ]
  },
  {
   "cell_type": "code",
   "execution_count": null,
   "metadata": {},
   "outputs": [],
   "source": [
    "dim = 2\n",
    "w, b = initialize_with_zeros(dim)\n",
    "\n",
    "assert type(b) == float\n",
    "print (\"w = \" + str(w))\n",
    "print (\"b = \" + str(b))\n",
    "\n",
    "initialize_with_zeros_test_1(initialize_with_zeros)\n",
    "initialize_with_zeros_test_2(initialize_with_zeros)"
   ]
  },
  {
   "cell_type": "markdown",
   "metadata": {},
   "source": [
    "<a name='4-3'></a>\n",
    "### 4.3 - Forward and Backward Propagation\n",
    "\n",
    "Nun, da die Parameter initialisiert sind, können Sie die Schritte \"Forward and Backward Propagation\" zum Lernen der Parameter durchführen.\n",
    "\n",
    "<a name='ex-5'></a>\n",
    "### Aufgabe 5 - propagate\n",
    "Implementieren Sie eine Funktion `propagate()`, die die Kostenfunktion und ihren Gradienten berechnet.\n",
    "\n",
    "**Hinweise**:\n",
    "\n",
    "Forward Propagation:\n",
    "- Eingabe: X\n",
    "- Sie berechnen: $A = \\sigma(w^T X + b) = (a^{(1)}, a^{(2)}, ..., a^{(m-1)}, a^{(m)})$\n",
    "- Sie berechnen die Kostenfunktion: $\\mathscr{J} = -\\frac{1}{m}\\sum_{i=1}^{m}(y^{(i)}\\log(a^{(i)})+(1-y^{(i)})\\log(1-a^{(i)}))$\n",
    "\n",
    "Zwei Formeln, die Sie verwenden werden: \n",
    "\n",
    "$$ \\frac{\\partial \\mathscr{J}}{\\partial w} = \\frac{1}{m}X(A-Y)^T\\tag{7}$$\n",
    "$$ \\frac{\\partial \\mathscr{J}}{\\partial b} = \\frac{1}{m} \\sum_{i=1}^m (a^{(i)}-y^{(i)})\\tag{8}$$"
   ]
  },
  {
   "cell_type": "code",
   "execution_count": null,
   "metadata": {},
   "outputs": [],
   "source": [
    "def propagate(w, b, X, Y):\n",
    "    \"\"\"\n",
    "    Implement the cost function and its gradient for the propagation explained above\n",
    "\n",
    "    Arguments:\n",
    "    w -- weights, a numpy array of size (num_px * num_px * 3, 1)\n",
    "    b -- bias, a scalar\n",
    "    X -- data of size (num_px * num_px * 3, number of examples)\n",
    "    Y -- true \"label\" vector (containing 0 if non-cat, 1 if cat) of size (1, number of examples)\n",
    "\n",
    "    Return:\n",
    "    grads -- dictionary containing the gradients of the weights and bias\n",
    "            (dw -- gradient of the loss with respect to w, thus same shape as w)\n",
    "            (db -- gradient of the loss with respect to b, thus same shape as b)\n",
    "    cost -- negative log-likelihood cost for logistic regression\n",
    "    \n",
    "    Tips:\n",
    "    - Write your code step by step for the propagation. np.log(), np.dot()\n",
    "    \"\"\"\n",
    "    \n",
    "    m = X.shape[1]\n",
    "    \n",
    "    # FORWARD PROPAGATION (FROM X TO COST)\n",
    "    #(≈ 2 lines of code)\n",
    "    # compute activation\n",
    "    # A = ...\n",
    "    # compute cost by using np.dot to perform multiplication. \n",
    "    # And don't use loops for the sum.\n",
    "    # cost = ...                                \n",
    "    # YOUR CODE STARTS HERE\n",
    "    \n",
    "    \n",
    "    # YOUR CODE ENDS HERE\n",
    "\n",
    "    # BACKWARD PROPAGATION (TO FIND GRAD)\n",
    "    #(≈ 2 lines of code)\n",
    "    # dw = ...\n",
    "    # db = ...\n",
    "    # YOUR CODE STARTS HERE\n",
    "    \n",
    "    \n",
    "    # YOUR CODE ENDS HERE\n",
    "    cost = np.squeeze(np.array(cost))\n",
    "\n",
    "    \n",
    "    grads = {\"dw\": dw,\n",
    "             \"db\": db}\n",
    "    \n",
    "    return grads, cost"
   ]
  },
  {
   "cell_type": "code",
   "execution_count": null,
   "metadata": {},
   "outputs": [],
   "source": [
    "w =  np.array([[1.], [2]])\n",
    "b = 1.5\n",
    "\n",
    "# X is using 3 examples, with 2 features each\n",
    "# Each example is stacked column-wise\n",
    "X = np.array([[1., -2., -1.], [3., 0.5, -3.2]])\n",
    "Y = np.array([[1, 1, 0]])\n",
    "grads, cost = propagate(w, b, X, Y)\n",
    "\n",
    "assert type(grads[\"dw\"]) == np.ndarray\n",
    "assert grads[\"dw\"].shape == (2, 1)\n",
    "assert type(grads[\"db\"]) == np.float64\n",
    "\n",
    "\n",
    "print (\"dw = \" + str(grads[\"dw\"]))\n",
    "print (\"db = \" + str(grads[\"db\"]))\n",
    "print (\"cost = \" + str(cost))\n",
    "\n",
    "propagate_test(propagate)"
   ]
  },
  {
   "cell_type": "markdown",
   "metadata": {},
   "source": [
    "**Erwartete Ausgabe:**\n",
    "\n",
    "```\n",
    "dw = [[ 0.25071532]\n",
    " [-0.06604096]]\n",
    "db = -0.1250040450043965\n",
    "cost = 0.15900537707692405"
   ]
  },
  {
   "cell_type": "markdown",
   "metadata": {},
   "source": [
    "<a name='4-4'></a>\n",
    "### 4.4 - Optimierung\n",
    "- Sie haben Ihre Parameter initialisiert.\n",
    "- Sie sind auch in der Lage, eine Kostenfunktion und ihren Gradienten zu berechnen.\n",
    "- Nun wollen Sie die Parameter mit Hilfe des Gradientenabstiegs / Gradient Descent aktualisieren.\n",
    "\n",
    "<a name='ex-6'></a>\n",
    "### Aufgabe 6 - Optimieren\n",
    "Schreiben Sie die Optimierungsfunktion. Ziel ist es, $w$ und $b$ durch Minimierung der Kostenfunktion $\\mathscr{J}$ zu lernen. Für einen Parameter $\\theta$ lautet die Aktualisierungsregel $ \\theta = \\theta - \\alpha \\text{ } d\\theta$, wobei $\\alpha$ die Lernrate ist."
   ]
  },
  {
   "cell_type": "code",
   "execution_count": null,
   "metadata": {},
   "outputs": [],
   "source": [
    "def optimize(w, b, X, Y, num_iterations=100, learning_rate=0.009, print_cost=False):\n",
    "    \"\"\"\n",
    "    This function optimizes w and b by running a gradient descent algorithm\n",
    "    \n",
    "    Arguments:\n",
    "    w -- weights, a numpy array of size (num_px * num_px * 3, 1)\n",
    "    b -- bias, a scalar\n",
    "    X -- data of shape (num_px * num_px * 3, number of examples)\n",
    "    Y -- true \"label\" vector (containing 0 if non-cat, 1 if cat), of shape (1, number of examples)\n",
    "    num_iterations -- number of iterations of the optimization loop\n",
    "    learning_rate -- learning rate of the gradient descent update rule\n",
    "    print_cost -- True to print the loss every 100 steps\n",
    "    \n",
    "    Returns:\n",
    "    params -- dictionary containing the weights w and bias b\n",
    "    grads -- dictionary containing the gradients of the weights and bias with respect to the cost function\n",
    "    costs -- list of all the costs computed during the optimization, this will be used to plot the learning curve.\n",
    "    \n",
    "    Tips:\n",
    "    You basically need to write down two steps and iterate through them:\n",
    "        1) Calculate the cost and the gradient for the current parameters. Use propagate().\n",
    "        2) Update the parameters using gradient descent rule for w and b.\n",
    "    \"\"\"\n",
    "    \n",
    "    w = copy.deepcopy(w)\n",
    "    b = copy.deepcopy(b)\n",
    "    \n",
    "    costs = []\n",
    "    \n",
    "    for i in range(num_iterations):\n",
    "        # (≈ 1 lines of code)\n",
    "        # Cost and gradient calculation \n",
    "        # grads, cost = ...\n",
    "        # YOUR CODE STARTS HERE\n",
    "        \n",
    "        \n",
    "        # YOUR CODE ENDS HERE\n",
    "        \n",
    "        # Retrieve derivatives from grads\n",
    "        dw = grads[\"dw\"]\n",
    "        db = grads[\"db\"]\n",
    "        \n",
    "        # update rule (≈ 2 lines of code)\n",
    "        # w = ...\n",
    "        # b = ...\n",
    "        # YOUR CODE STARTS HERE\n",
    "        \n",
    "        \n",
    "        # YOUR CODE ENDS HERE\n",
    "        \n",
    "        # Record the costs\n",
    "        if i % 100 == 0:\n",
    "            costs.append(cost)\n",
    "        \n",
    "            # Print the cost every 100 training iterations\n",
    "            if print_cost:\n",
    "                print (\"Cost after iteration %i: %f\" %(i, cost))\n",
    "    \n",
    "    params = {\"w\": w,\n",
    "              \"b\": b}\n",
    "    \n",
    "    grads = {\"dw\": dw,\n",
    "             \"db\": db}\n",
    "    \n",
    "    return params, grads, costs"
   ]
  },
  {
   "cell_type": "code",
   "execution_count": null,
   "metadata": {},
   "outputs": [],
   "source": [
    "params, grads, costs = optimize(w, b, X, Y, num_iterations=100, learning_rate=0.009, print_cost=False)\n",
    "\n",
    "print (\"w = \" + str(params[\"w\"]))\n",
    "print (\"b = \" + str(params[\"b\"]))\n",
    "print (\"dw = \" + str(grads[\"dw\"]))\n",
    "print (\"db = \" + str(grads[\"db\"]))\n",
    "print(\"Costs = \" + str(costs))\n",
    "\n",
    "optimize_test(optimize)"
   ]
  },
  {
   "cell_type": "markdown",
   "metadata": {},
   "source": [
    "<a name='ex-7'></a>\n",
    "### Aufgabe 7 - Vorhersage / Prediction\n",
    "Die vorherige Funktion gibt die gelernten w und b aus. Wir können w und b verwenden, um die Labels für einen Datensatz X vorherzusagen. Implementieren Sie die Funktion `predict()`. Es gibt zwei Schritte zur Berechnung von Vorhersagen:\n",
    "\n",
    "1. Berechnen Sie $\\hat{Y} = A = \\sigma(w^T X + b)$\n",
    "\n",
    "2. Konvertiere die Einträge von a in 0 (wenn Aktivierung <= 0,5) oder 1 (wenn Aktivierung > 0,5) und speichere die Vorhersagen in einem Vektor `Y_prediction`. Wenn Sie möchten, können Sie eine `if`/`else`-Anweisung in einer `for`-Schleife verwenden (es gibt jedoch auch eine Möglichkeit, dies zu vektorisieren). "
   ]
  },
  {
   "cell_type": "code",
   "execution_count": null,
   "metadata": {},
   "outputs": [],
   "source": [
    "def predict(w, b, X):\n",
    "    '''\n",
    "    Predict whether the label is 0 or 1 using learned logistic regression parameters (w, b)\n",
    "    \n",
    "    Arguments:\n",
    "    w -- weights, a numpy array of size (num_px * num_px * 3, 1)\n",
    "    b -- bias, a scalar\n",
    "    X -- data of size (num_px * num_px * 3, number of examples)\n",
    "    \n",
    "    Returns:\n",
    "    Y_prediction -- a numpy array (vector) containing all predictions (0/1) for the examples in X\n",
    "    '''\n",
    "    \n",
    "    m = X.shape[1]\n",
    "    Y_prediction = np.zeros((1, m))\n",
    "    w = w.reshape(X.shape[0], 1)\n",
    "    \n",
    "    # Compute vector \"A\" predicting the probabilities of a cat being present in the picture\n",
    "    #(≈ 1 line of code)\n",
    "    # A = ...\n",
    "    # YOUR CODE STARTS HERE\n",
    "    \n",
    "    \n",
    "    # YOUR CODE ENDS HERE\n",
    "    \n",
    "    for i in range(A.shape[1]):\n",
    "        \n",
    "        # Convert probabilities A[0,i] to actual predictions p[0,i]\n",
    "        #(≈ 4 lines of code)\n",
    "        # if A[0, i] > ____ :\n",
    "        #     Y_prediction[0,i] = \n",
    "        # else:\n",
    "        #     Y_prediction[0,i] = \n",
    "        # YOUR CODE STARTS HERE\n",
    "        \n",
    "        \n",
    "        # YOUR CODE ENDS HERE\n",
    "    \n",
    "    return Y_prediction"
   ]
  },
  {
   "cell_type": "code",
   "execution_count": null,
   "metadata": {},
   "outputs": [],
   "source": [
    "w = np.array([[0.1124579], [0.23106775]])\n",
    "b = -0.3\n",
    "X = np.array([[1., -1.1, -3.2],[1.2, 2., 0.1]])\n",
    "print (\"predictions = \" + str(predict(w, b, X)))\n",
    "\n",
    "predict_test(predict)"
   ]
  },
  {
   "cell_type": "markdown",
   "metadata": {},
   "source": [
    "**Was Sie sich merken sollten:**\n",
    "    \n",
    "Sie haben mehrere Funktionen implementiert, die folgendes bewirken:\n",
    "- Initialisierung (w,b)\n",
    "- Iterative Optimierung des Verlusts, um die Parameter (w,b) zu lernen:\n",
    "  - Berechnen der Kosten und ihres Gradienten \n",
    "  - Aktualisierung der Parameter durch Gradientenabstieg / Gradient Descent\n",
    "- Verwendung der erlernten (w,b) zur Vorhersage der Bezeichnungen für eine gegebene Menge von Beispielen"
   ]
  },
  {
   "cell_type": "markdown",
   "metadata": {},
   "source": [
    "<a name='5'></a>\n",
    "## 5 - Alle Funktionen zu einem Modell zusammenfügen ##\n",
    "\n",
    "Sie werden nun sehen, wie das Gesamtmodell aufgebaut ist, indem Sie alle Bausteine (Funktionen, die in den vorherigen Teilen implementiert wurden) in der richtigen Reihenfolge zusammenfügen.\n",
    "\n",
    "<a name='ex-8'></a>\n",
    "### Aufgabe 8 - Modell\n",
    "Implementieren Sie die Modellfunktion. Verwenden Sie die folgende Notation:\n",
    "- Y_prediction_test für Ihre Vorhersagen auf der Testmenge\n",
    "- Y_prediction_train für Ihre Vorhersagen für die Trainingsmenge\n",
    "- parameters, grads, costs für die Ausgaben von optimize()"
   ]
  },
  {
   "cell_type": "code",
   "execution_count": null,
   "metadata": {},
   "outputs": [],
   "source": [
    "def model(X_train, Y_train, X_test, Y_test, num_iterations=2000, learning_rate=0.5, print_cost=False):\n",
    "    \"\"\"\n",
    "    Builds the logistic regression model by calling the function you've implemented previously\n",
    "    \n",
    "    Arguments:\n",
    "    X_train -- training set represented by a numpy array of shape (num_px * num_px * 3, m_train)\n",
    "    Y_train -- training labels represented by a numpy array (vector) of shape (1, m_train)\n",
    "    X_test -- test set represented by a numpy array of shape (num_px * num_px * 3, m_test)\n",
    "    Y_test -- test labels represented by a numpy array (vector) of shape (1, m_test)\n",
    "    num_iterations -- hyperparameter representing the number of iterations to optimize the parameters\n",
    "    learning_rate -- hyperparameter representing the learning rate used in the update rule of optimize()\n",
    "    print_cost -- Set to True to print the cost every 100 iterations\n",
    "    \n",
    "    Returns:\n",
    "    d -- dictionary containing information about the model.\n",
    "    \"\"\"\n",
    "    # (≈ 1 line of code)   \n",
    "    # initialize parameters with zeros\n",
    "    # and use the \"shape\" function to get the first dimension of X_train\n",
    "    # w, b = ...\n",
    "    \n",
    "    #(≈ 1 line of code)\n",
    "    # Gradient descent \n",
    "    # params, grads, costs = ...\n",
    "    \n",
    "    # Retrieve parameters w and b from dictionary \"params\"\n",
    "    # w = ...\n",
    "    # b = ...\n",
    "    \n",
    "    # Predict test/train set examples (≈ 2 lines of code)\n",
    "    # Y_prediction_test = ...\n",
    "    # Y_prediction_train = ...\n",
    "    \n",
    "    # YOUR CODE STARTS HERE\n",
    "    \n",
    "    \n",
    "    # YOUR CODE ENDS HERE\n",
    "\n",
    "    # Print train/test Errors\n",
    "    if print_cost:\n",
    "        print(\"train accuracy: {} %\".format(100 - np.mean(np.abs(Y_prediction_train - Y_train)) * 100))\n",
    "        print(\"test accuracy: {} %\".format(100 - np.mean(np.abs(Y_prediction_test - Y_test)) * 100))\n",
    "\n",
    "    \n",
    "    d = {\"costs\": costs,\n",
    "         \"Y_prediction_test\": Y_prediction_test, \n",
    "         \"Y_prediction_train\" : Y_prediction_train, \n",
    "         \"w\" : w, \n",
    "         \"b\" : b,\n",
    "         \"learning_rate\" : learning_rate,\n",
    "         \"num_iterations\": num_iterations}\n",
    "    \n",
    "    return d"
   ]
  },
  {
   "cell_type": "code",
   "execution_count": null,
   "metadata": {},
   "outputs": [],
   "source": [
    "from public_tests import *\n",
    "\n",
    "model_test(model)"
   ]
  },
  {
   "cell_type": "markdown",
   "metadata": {},
   "source": [
    "Wenn alle Tests durchlaufen, führen Sie die folgende Zelle aus, um Ihr Modell zu trainieren."
   ]
  },
  {
   "cell_type": "code",
   "execution_count": null,
   "metadata": {},
   "outputs": [],
   "source": [
    "logistic_regression_model = model(train_set_x, train_set_y, test_set_x, test_set_y, num_iterations=2000, learning_rate=0.005, print_cost=True)"
   ]
  },
  {
   "cell_type": "markdown",
   "metadata": {},
   "source": [
    "**Bemerkung**: Die Trainingsgenauigkeit liegt nahe bei 100%. Dies ist eine guter Check: Ihr Modell funktioniert und hat eine ausreichende Kapazität, um die Trainingsdaten zu erfassen. Die Testgenauigkeit beträgt 70%. Das ist eigentlich nicht schlecht für dieses einfache Modell, wenn man bedenkt, dass wir einen kleinen Datensatz verwendet haben und dass die logistische Regression ein einfacher, linearer Klassifikator ist. (Wir werden dies noch verbessern.)\n",
    "\n",
    "Sie sehen auch, dass das Modell die Trainingsdaten eindeutig \"overfittet\". Overfitting ist ein Problem beim Trainieren von Machine-Learning-Modellen, das auftritt, wenn ein Modell zu komplex ist und zu viele Datenmerkmale (Features) im Trainingsdatensatz lernt, einschließlich des Rauschens und der Ausreißer. Das Modell wird so spezifisch für den Trainingsdatensatz, dass seine Leistung auf neuen, unbekannten Daten deutlich schlechter ist. Es hat im Wesentlichen die zufälligen Fluktuationen in den Trainingsdaten „auswendig gelernt“, statt die zugrundeliegenden Muster zu erfassen, die auf neue Daten generalisiert werden können. Später werden Sie lernen, wie Sie das Overfitting reduzieren können, z. B. durch den Einsatz von Regularisierung. Mit dem folgenden Code (und der Änderung der Variable `index`) können Sie sich die Vorhersagen für die Bilder der Testmenge ansehen."
   ]
  },
  {
   "cell_type": "code",
   "execution_count": null,
   "metadata": {},
   "outputs": [],
   "source": [
    "# Example of a picture that was wrongly classified.\n",
    "index = 1\n",
    "plt.imshow(test_set_x[:, index].reshape((num_px, num_px, 3)))\n",
    "print (\"y = \" + str(test_set_y[0,index]) + \", you predicted that it is a \\\"\" + classes[int(logistic_regression_model['Y_prediction_test'][0,index])].decode(\"utf-8\") +  \"\\\" picture.\")"
   ]
  },
  {
   "cell_type": "markdown",
   "metadata": {},
   "source": [
    "Wir zeichnen die Kostenfunktion und die Gradienten."
   ]
  },
  {
   "cell_type": "code",
   "execution_count": null,
   "metadata": {},
   "outputs": [],
   "source": [
    "# Plot learning curve (with costs)\n",
    "costs = np.squeeze(logistic_regression_model['costs'])\n",
    "plt.plot(costs)\n",
    "plt.ylabel('cost')\n",
    "plt.xlabel('iterations (per hundreds)')\n",
    "plt.title(\"Learning rate =\" + str(logistic_regression_model[\"learning_rate\"]))\n",
    "plt.show()"
   ]
  },
  {
   "cell_type": "markdown",
   "metadata": {},
   "source": [
    "**Interpretation**:\n",
    "Sie können sehen, dass die Kosten sinken. Das zeigt, dass die Parameter gelernt werden. Sie sehen jedoch, dass Sie das Modell noch weiter auf dem Trainingssatz trainieren könnten. Versuchen Sie, die Anzahl der Iterationen in der Zelle oben zu erhöhen und führen Sie die Zellen erneut aus. Sie werden feststellen, dass die Genauigkeit der Trainingsmenge steigt, die Genauigkeit der Testmenge jedoch sinkt. Dies zeigt das Overfitting. "
   ]
  },
  {
   "cell_type": "markdown",
   "metadata": {},
   "source": [
    "<a name='6'></a>\n",
    "## 6 - Weitere Analyse ##\n",
    "\n",
    "Herzlichen Glückwunsch zur Erstellung Ihres ersten Bildklassifikationsmodells. Analysieren wir es weiter und untersuchen mögliche Wahloptionen für die Lernrate $\\alpha$. "
   ]
  },
  {
   "cell_type": "markdown",
   "metadata": {},
   "source": [
    "#### Wahl der Lernrate ####\n",
    "\n",
    "**Erinnerung**:\n",
    "Damit der Gradientenabstieg funktioniert, müssen Sie die Lernrate sinnvoll wählen. Die Lernrate $\\alpha$ bestimmt, wie schnell wir die Parameter aktualisieren. Wenn die Lernrate zu groß ist, kann es passieren, dass wir über den optimalen Wert hinausschießen. Wenn sie zu klein ist, brauchen wir zu viele Iterationen, um zu den besten Werten zu konvergieren. Deshalb ist es so wichtig, eine gut abgestimmte Lernrate zu verwenden.\n",
    "\n",
    "Lassen Sie uns die Lernkurve unseres Modells bei verschiedenen Lernraten vergleichen. Führen Sie die unten stehende Zelle aus. Dies sollte etwa 1 Minute dauern. Probieren Sie ruhig auch andere Werte aus als die drei, die wir in die Variable `learning_rates` eingestellt haben, und sehen Sie, was passiert. "
   ]
  },
  {
   "cell_type": "code",
   "execution_count": null,
   "metadata": {},
   "outputs": [],
   "source": [
    "learning_rates = [0.01, 0.001, 0.0001]\n",
    "models = {}\n",
    "\n",
    "for lr in learning_rates:\n",
    "    print (\"Training a model with learning rate: \" + str(lr))\n",
    "    models[str(lr)] = model(train_set_x, train_set_y, test_set_x, test_set_y, num_iterations=1500, learning_rate=lr, print_cost=False)\n",
    "    print ('\\n' + \"-------------------------------------------------------\" + '\\n')\n",
    "\n",
    "for lr in learning_rates:\n",
    "    plt.plot(np.squeeze(models[str(lr)][\"costs\"]), label=str(models[str(lr)][\"learning_rate\"]))\n",
    "\n",
    "plt.ylabel('cost')\n",
    "plt.xlabel('iterations (hundreds)')\n",
    "\n",
    "legend = plt.legend(loc='upper center', shadow=True)\n",
    "frame = legend.get_frame()\n",
    "frame.set_facecolor('0.90')\n",
    "plt.show()"
   ]
  },
  {
   "cell_type": "markdown",
   "metadata": {},
   "source": [
    "**Interpretation**: \n",
    "- Unterschiedliche Lernraten führen zu unterschiedlichen Kosten und damit zu unterschiedlichen Vorhersageergebnissen.\n",
    "- Wenn die Lernrate zu groß ist (0,01), können die Kosten nach oben und unten schwanken. Sie können sogar divergieren (obwohl in diesem Beispiel die Verwendung von 0,01 immer noch zu einem guten Wert für die Kosten führt). \n",
    "- Niedrigere Kosten bedeuten nicht gleich ein besseres Modell. Sie müssen prüfen, ob möglicherweise eine Überanpassung / ein Overfitting vorliegt. Dies ist der Fall, wenn die Trainingsgenauigkeit viel höher ist als die Testgenauigkeit.\n",
    "- Beim Deep Learning sollten Sie wie folgt vorgehen: \n",
    "    - Wählen Sie eine Lernrate, welche die Kostenfunktion am besten minimiert.\n",
    "    - Wenn Ihr Modell overfittet, verwenden Sie weitere Techniken, um das Overfitting zu verringern. (Wir werden diese später behandeln.) "
   ]
  },
  {
   "cell_type": "markdown",
   "metadata": {},
   "source": [
    "<a name='7'></a>\n",
    "## 7 - Testen Sie mit Ihrem eigenen Bild ##\n",
    "\n",
    "Herzlichen Glückwunsch zum Abschluss dieser Übung. Sie können nun ein eigenes Bild verwenden und die Ergebnisse Ihres Modells betrachten:\n",
    "1. Fügen Sie Ihr Bild in das Verzeichnis dieses Jupyter-Notizbuchs im Ordner \"images\" ein.\n",
    "2. Fügen Sie den Dateinamen Ihres Bildes in folgendem Code ein.\n",
    "3. Führen Sie den Code aus und überprüfen Sie, ob der Algorithmus eine korrekte Vorhersage macht (1 = Katze, 0 = nicht Katze)!"
   ]
  },
  {
   "cell_type": "markdown",
   "metadata": {},
   "source": [
    "Bibliography:\n",
    "- http://www.wildml.com/2015/09/implementing-a-neural-network-from-scratch/\n",
    "- https://stats.stackexchange.com/questions/211436/why-do-we-normalize-images-by-subtracting-the-datasets-image-mean-and-not-the-c\n",
    "\n",
    "Quelle: DeepLearning.AI"
   ]
  },
  {
   "cell_type": "code",
   "execution_count": null,
   "metadata": {},
   "outputs": [],
   "source": [
    "# change this to the name of your image file\n",
    "my_image = \"my_image.jpg\"   \n",
    "\n",
    "# We preprocess the image to fit your algorithm.\n",
    "fname = \"images/\" + my_image\n",
    "image = np.array(Image.open(fname).resize((num_px, num_px)))\n",
    "plt.imshow(image)\n",
    "image = image / 255.\n",
    "image = image.reshape((1, num_px * num_px * 3)).T\n",
    "my_predicted_image = predict(logistic_regression_model[\"w\"], logistic_regression_model[\"b\"], image)\n",
    "\n",
    "print(\"y = \" + str(np.squeeze(my_predicted_image)) + \", your algorithm predicts a \\\"\" + classes[int(np.squeeze(my_predicted_image)),].decode(\"utf-8\") +  \"\\\" picture.\")"
   ]
  },
  {
   "cell_type": "markdown",
   "metadata": {},
   "source": [
    "**Was Sie sich merken sollten:**\n",
    "1. Die Vorverarbeitung des Datensatzes ist wichtig.\n",
    "2. Sie haben jede Funktion separat implementiert: initialize(), propagate(), optimize(). Dann haben Sie ein Modell() aus den einzelnen Verarbeitungsschritten erstellt.\n",
    "3. Die Abstimmung der Lernrate (ein Beispiel für einen \"Hyperparameter\") kann einen großen Unterschied für die Effektivität des Algorithmus ausmachen. Wir werden später weitere Beispiele dafür sehen!"
   ]
  },
  {
   "cell_type": "markdown",
   "metadata": {},
   "source": [
    "Experimentieren Sie gerne weiter\n",
    "    - Spielen Sie mit der Lernrate und der Anzahl der Iterationen\n",
    "    - Probieren Sie verschiedene Initialisierungsmethoden aus und vergleichen Sie die Ergebnisse\n",
    "    - Testen Sie andere Vorverarbeitungsschritte (zentrieren Sie die Daten, oder teilen Sie jede Zeile durch ihre Standardabweichung)"
   ]
  }
 ],
 "metadata": {
  "kernelspec": {
   "display_name": ".venv",
   "language": "python",
   "name": "python3"
  },
  "language_info": {
   "codemirror_mode": {
    "name": "ipython",
    "version": 3
   },
   "file_extension": ".py",
   "mimetype": "text/x-python",
   "name": "python",
   "nbconvert_exporter": "python",
   "pygments_lexer": "ipython3",
   "version": "3.12.2"
  }
 },
 "nbformat": 4,
 "nbformat_minor": 2
}
